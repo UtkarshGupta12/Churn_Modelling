{
  "nbformat": 4,
  "nbformat_minor": 0,
  "metadata": {
    "colab": {
      "name": "Churn_Modelling.ipynb",
      "version": "0.3.2",
      "provenance": [],
      "collapsed_sections": [],
      "include_colab_link": true
    },
    "kernelspec": {
      "name": "python3",
      "display_name": "Python 3"
    }
  },
  "cells": [
    {
      "cell_type": "markdown",
      "metadata": {
        "id": "view-in-github",
        "colab_type": "text"
      },
      "source": [
        "<a href=\"https://colab.research.google.com/github/UtkarshGupta12/Churn_Modelling/blob/master/Churn_Modelling.ipynb\" target=\"_parent\"><img src=\"https://colab.research.google.com/assets/colab-badge.svg\" alt=\"Open In Colab\"/></a>"
      ]
    },
    {
      "cell_type": "code",
      "metadata": {
        "id": "maqwRYe_Ev10",
        "colab_type": "code",
        "colab": {}
      },
      "source": [
        "import numpy as np \n",
        "import pandas as pd "
      ],
      "execution_count": 0,
      "outputs": []
    },
    {
      "cell_type": "code",
      "metadata": {
        "id": "iS6OdAaNFkEM",
        "colab_type": "code",
        "colab": {}
      },
      "source": [
        "import keras"
      ],
      "execution_count": 0,
      "outputs": []
    },
    {
      "cell_type": "code",
      "metadata": {
        "id": "7jVhUEaM30sr",
        "colab_type": "code",
        "colab": {}
      },
      "source": [
        "df = pd.read_csv('https://raw.githubusercontent.com/UtkarshGupta12/Churn_Modelling/master/Churn_Modelling.csv')"
      ],
      "execution_count": 0,
      "outputs": []
    },
    {
      "cell_type": "code",
      "metadata": {
        "id": "mXq7TIxN5AiE",
        "colab_type": "code",
        "outputId": "33517115-37e6-4d49-b8cc-970ae956ac8c",
        "colab": {
          "base_uri": "https://localhost:8080/",
          "height": 195
        }
      },
      "source": [
        "df.head()"
      ],
      "execution_count": 154,
      "outputs": [
        {
          "output_type": "execute_result",
          "data": {
            "text/html": [
              "<div>\n",
              "<style scoped>\n",
              "    .dataframe tbody tr th:only-of-type {\n",
              "        vertical-align: middle;\n",
              "    }\n",
              "\n",
              "    .dataframe tbody tr th {\n",
              "        vertical-align: top;\n",
              "    }\n",
              "\n",
              "    .dataframe thead th {\n",
              "        text-align: right;\n",
              "    }\n",
              "</style>\n",
              "<table border=\"1\" class=\"dataframe\">\n",
              "  <thead>\n",
              "    <tr style=\"text-align: right;\">\n",
              "      <th></th>\n",
              "      <th>RowNumber</th>\n",
              "      <th>CustomerId</th>\n",
              "      <th>Surname</th>\n",
              "      <th>CreditScore</th>\n",
              "      <th>Geography</th>\n",
              "      <th>Gender</th>\n",
              "      <th>Age</th>\n",
              "      <th>Tenure</th>\n",
              "      <th>Balance</th>\n",
              "      <th>NumOfProducts</th>\n",
              "      <th>HasCrCard</th>\n",
              "      <th>IsActiveMember</th>\n",
              "      <th>EstimatedSalary</th>\n",
              "      <th>Exited</th>\n",
              "    </tr>\n",
              "  </thead>\n",
              "  <tbody>\n",
              "    <tr>\n",
              "      <th>0</th>\n",
              "      <td>1</td>\n",
              "      <td>15634602</td>\n",
              "      <td>Hargrave</td>\n",
              "      <td>619</td>\n",
              "      <td>France</td>\n",
              "      <td>Female</td>\n",
              "      <td>42</td>\n",
              "      <td>2</td>\n",
              "      <td>0.00</td>\n",
              "      <td>1</td>\n",
              "      <td>1</td>\n",
              "      <td>1</td>\n",
              "      <td>101348.88</td>\n",
              "      <td>1</td>\n",
              "    </tr>\n",
              "    <tr>\n",
              "      <th>1</th>\n",
              "      <td>2</td>\n",
              "      <td>15647311</td>\n",
              "      <td>Hill</td>\n",
              "      <td>608</td>\n",
              "      <td>Spain</td>\n",
              "      <td>Female</td>\n",
              "      <td>41</td>\n",
              "      <td>1</td>\n",
              "      <td>83807.86</td>\n",
              "      <td>1</td>\n",
              "      <td>0</td>\n",
              "      <td>1</td>\n",
              "      <td>112542.58</td>\n",
              "      <td>0</td>\n",
              "    </tr>\n",
              "    <tr>\n",
              "      <th>2</th>\n",
              "      <td>3</td>\n",
              "      <td>15619304</td>\n",
              "      <td>Onio</td>\n",
              "      <td>502</td>\n",
              "      <td>France</td>\n",
              "      <td>Female</td>\n",
              "      <td>42</td>\n",
              "      <td>8</td>\n",
              "      <td>159660.80</td>\n",
              "      <td>3</td>\n",
              "      <td>1</td>\n",
              "      <td>0</td>\n",
              "      <td>113931.57</td>\n",
              "      <td>1</td>\n",
              "    </tr>\n",
              "    <tr>\n",
              "      <th>3</th>\n",
              "      <td>4</td>\n",
              "      <td>15701354</td>\n",
              "      <td>Boni</td>\n",
              "      <td>699</td>\n",
              "      <td>France</td>\n",
              "      <td>Female</td>\n",
              "      <td>39</td>\n",
              "      <td>1</td>\n",
              "      <td>0.00</td>\n",
              "      <td>2</td>\n",
              "      <td>0</td>\n",
              "      <td>0</td>\n",
              "      <td>93826.63</td>\n",
              "      <td>0</td>\n",
              "    </tr>\n",
              "    <tr>\n",
              "      <th>4</th>\n",
              "      <td>5</td>\n",
              "      <td>15737888</td>\n",
              "      <td>Mitchell</td>\n",
              "      <td>850</td>\n",
              "      <td>Spain</td>\n",
              "      <td>Female</td>\n",
              "      <td>43</td>\n",
              "      <td>2</td>\n",
              "      <td>125510.82</td>\n",
              "      <td>1</td>\n",
              "      <td>1</td>\n",
              "      <td>1</td>\n",
              "      <td>79084.10</td>\n",
              "      <td>0</td>\n",
              "    </tr>\n",
              "  </tbody>\n",
              "</table>\n",
              "</div>"
            ],
            "text/plain": [
              "   RowNumber  CustomerId   Surname  ...  IsActiveMember EstimatedSalary Exited\n",
              "0          1    15634602  Hargrave  ...               1       101348.88      1\n",
              "1          2    15647311      Hill  ...               1       112542.58      0\n",
              "2          3    15619304      Onio  ...               0       113931.57      1\n",
              "3          4    15701354      Boni  ...               0        93826.63      0\n",
              "4          5    15737888  Mitchell  ...               1        79084.10      0\n",
              "\n",
              "[5 rows x 14 columns]"
            ]
          },
          "metadata": {
            "tags": []
          },
          "execution_count": 154
        }
      ]
    },
    {
      "cell_type": "code",
      "metadata": {
        "id": "8JssU-Aq5IGn",
        "colab_type": "code",
        "colab": {}
      },
      "source": [
        "import matplotlib.pyplot as plt"
      ],
      "execution_count": 0,
      "outputs": []
    },
    {
      "cell_type": "code",
      "metadata": {
        "id": "-yKIE2Lm5Y1J",
        "colab_type": "code",
        "colab": {}
      },
      "source": [
        "df2 = df\n",
        "df2 = df2.drop(['RowNumber','CustomerId','Surname'],axis=1)"
      ],
      "execution_count": 0,
      "outputs": []
    },
    {
      "cell_type": "code",
      "metadata": {
        "id": "kvN4DSNX5vvz",
        "colab_type": "code",
        "outputId": "b7340a23-e0b5-44ea-caa7-9fef3a04e152",
        "colab": {
          "base_uri": "https://localhost:8080/",
          "height": 195
        }
      },
      "source": [
        "df2.head()"
      ],
      "execution_count": 157,
      "outputs": [
        {
          "output_type": "execute_result",
          "data": {
            "text/html": [
              "<div>\n",
              "<style scoped>\n",
              "    .dataframe tbody tr th:only-of-type {\n",
              "        vertical-align: middle;\n",
              "    }\n",
              "\n",
              "    .dataframe tbody tr th {\n",
              "        vertical-align: top;\n",
              "    }\n",
              "\n",
              "    .dataframe thead th {\n",
              "        text-align: right;\n",
              "    }\n",
              "</style>\n",
              "<table border=\"1\" class=\"dataframe\">\n",
              "  <thead>\n",
              "    <tr style=\"text-align: right;\">\n",
              "      <th></th>\n",
              "      <th>CreditScore</th>\n",
              "      <th>Geography</th>\n",
              "      <th>Gender</th>\n",
              "      <th>Age</th>\n",
              "      <th>Tenure</th>\n",
              "      <th>Balance</th>\n",
              "      <th>NumOfProducts</th>\n",
              "      <th>HasCrCard</th>\n",
              "      <th>IsActiveMember</th>\n",
              "      <th>EstimatedSalary</th>\n",
              "      <th>Exited</th>\n",
              "    </tr>\n",
              "  </thead>\n",
              "  <tbody>\n",
              "    <tr>\n",
              "      <th>0</th>\n",
              "      <td>619</td>\n",
              "      <td>France</td>\n",
              "      <td>Female</td>\n",
              "      <td>42</td>\n",
              "      <td>2</td>\n",
              "      <td>0.00</td>\n",
              "      <td>1</td>\n",
              "      <td>1</td>\n",
              "      <td>1</td>\n",
              "      <td>101348.88</td>\n",
              "      <td>1</td>\n",
              "    </tr>\n",
              "    <tr>\n",
              "      <th>1</th>\n",
              "      <td>608</td>\n",
              "      <td>Spain</td>\n",
              "      <td>Female</td>\n",
              "      <td>41</td>\n",
              "      <td>1</td>\n",
              "      <td>83807.86</td>\n",
              "      <td>1</td>\n",
              "      <td>0</td>\n",
              "      <td>1</td>\n",
              "      <td>112542.58</td>\n",
              "      <td>0</td>\n",
              "    </tr>\n",
              "    <tr>\n",
              "      <th>2</th>\n",
              "      <td>502</td>\n",
              "      <td>France</td>\n",
              "      <td>Female</td>\n",
              "      <td>42</td>\n",
              "      <td>8</td>\n",
              "      <td>159660.80</td>\n",
              "      <td>3</td>\n",
              "      <td>1</td>\n",
              "      <td>0</td>\n",
              "      <td>113931.57</td>\n",
              "      <td>1</td>\n",
              "    </tr>\n",
              "    <tr>\n",
              "      <th>3</th>\n",
              "      <td>699</td>\n",
              "      <td>France</td>\n",
              "      <td>Female</td>\n",
              "      <td>39</td>\n",
              "      <td>1</td>\n",
              "      <td>0.00</td>\n",
              "      <td>2</td>\n",
              "      <td>0</td>\n",
              "      <td>0</td>\n",
              "      <td>93826.63</td>\n",
              "      <td>0</td>\n",
              "    </tr>\n",
              "    <tr>\n",
              "      <th>4</th>\n",
              "      <td>850</td>\n",
              "      <td>Spain</td>\n",
              "      <td>Female</td>\n",
              "      <td>43</td>\n",
              "      <td>2</td>\n",
              "      <td>125510.82</td>\n",
              "      <td>1</td>\n",
              "      <td>1</td>\n",
              "      <td>1</td>\n",
              "      <td>79084.10</td>\n",
              "      <td>0</td>\n",
              "    </tr>\n",
              "  </tbody>\n",
              "</table>\n",
              "</div>"
            ],
            "text/plain": [
              "   CreditScore Geography  Gender  ...  IsActiveMember  EstimatedSalary  Exited\n",
              "0          619    France  Female  ...               1        101348.88       1\n",
              "1          608     Spain  Female  ...               1        112542.58       0\n",
              "2          502    France  Female  ...               0        113931.57       1\n",
              "3          699    France  Female  ...               0         93826.63       0\n",
              "4          850     Spain  Female  ...               1         79084.10       0\n",
              "\n",
              "[5 rows x 11 columns]"
            ]
          },
          "metadata": {
            "tags": []
          },
          "execution_count": 157
        }
      ]
    },
    {
      "cell_type": "code",
      "metadata": {
        "id": "oc2OUA816p1H",
        "colab_type": "code",
        "colab": {}
      },
      "source": [
        "X = df.iloc[ : , 3:13].values\n",
        "y = df.iloc[ : ,13].values"
      ],
      "execution_count": 0,
      "outputs": []
    },
    {
      "cell_type": "code",
      "metadata": {
        "id": "0Fstdwn17JBx",
        "colab_type": "code",
        "outputId": "f34bf88a-b8b9-494a-f8c3-66906017a2dd",
        "colab": {
          "base_uri": "https://localhost:8080/",
          "height": 138
        }
      },
      "source": [
        "from sklearn.preprocessing import LabelEncoder, OneHotEncoder\n",
        "labelencoder_X_1 = LabelEncoder()\n",
        "X[ : , 1]=labelencoder_X_1.fit_transform(X[ : , 1])\n",
        "labelencoder_X_2 = LabelEncoder()\n",
        "X[ : , 2]=labelencoder_X_2.fit_transform(X[ : , 2])\n",
        "onehotencoder = OneHotEncoder(categorical_features = [1])\n",
        "X = onehotencoder.fit_transform(X).toarray()\n",
        "X = X[ : , 1:]"
      ],
      "execution_count": 159,
      "outputs": [
        {
          "output_type": "stream",
          "text": [
            "/usr/local/lib/python3.6/dist-packages/sklearn/preprocessing/_encoders.py:415: FutureWarning: The handling of integer data will change in version 0.22. Currently, the categories are determined based on the range [0, max(values)], while in the future they will be determined based on the unique values.\n",
            "If you want the future behaviour and silence this warning, you can specify \"categories='auto'\".\n",
            "In case you used a LabelEncoder before this OneHotEncoder to convert the categories to integers, then you can now use the OneHotEncoder directly.\n",
            "  warnings.warn(msg, FutureWarning)\n",
            "/usr/local/lib/python3.6/dist-packages/sklearn/preprocessing/_encoders.py:451: DeprecationWarning: The 'categorical_features' keyword is deprecated in version 0.20 and will be removed in 0.22. You can use the ColumnTransformer instead.\n",
            "  \"use the ColumnTransformer instead.\", DeprecationWarning)\n"
          ],
          "name": "stderr"
        }
      ]
    },
    {
      "cell_type": "code",
      "metadata": {
        "id": "iSKAa03ZIEs4",
        "colab_type": "code",
        "outputId": "1d4f7d97-605d-448d-fed1-27749c0ca0c0",
        "colab": {
          "base_uri": "https://localhost:8080/",
          "height": 34
        }
      },
      "source": [
        "X.shape"
      ],
      "execution_count": 160,
      "outputs": [
        {
          "output_type": "execute_result",
          "data": {
            "text/plain": [
              "(10000, 11)"
            ]
          },
          "metadata": {
            "tags": []
          },
          "execution_count": 160
        }
      ]
    },
    {
      "cell_type": "code",
      "metadata": {
        "id": "4WtBXq8jIFzO",
        "colab_type": "code",
        "outputId": "240c9a8e-0d52-410d-8c06-d7966277ee14",
        "colab": {
          "base_uri": "https://localhost:8080/",
          "height": 34
        }
      },
      "source": [
        "y.shape"
      ],
      "execution_count": 161,
      "outputs": [
        {
          "output_type": "execute_result",
          "data": {
            "text/plain": [
              "(10000,)"
            ]
          },
          "metadata": {
            "tags": []
          },
          "execution_count": 161
        }
      ]
    },
    {
      "cell_type": "code",
      "metadata": {
        "id": "OzCPRvY89__K",
        "colab_type": "code",
        "colab": {}
      },
      "source": [
        "from sklearn.model_selection import train_test_split\n",
        "X_train , X_test , y_train , y_test = train_test_split(X,y,test_size=0.2 , random_state = 0)"
      ],
      "execution_count": 0,
      "outputs": []
    },
    {
      "cell_type": "code",
      "metadata": {
        "id": "-0JeJermCUb_",
        "colab_type": "code",
        "colab": {}
      },
      "source": [
        "from sklearn.preprocessing import StandardScaler\n",
        "sc = StandardScaler()\n",
        "X_train = sc.fit_transform(X_train)\n",
        "X_test = sc.transform(X_test)"
      ],
      "execution_count": 0,
      "outputs": []
    },
    {
      "cell_type": "code",
      "metadata": {
        "id": "7DxMZnqZJRIF",
        "colab_type": "code",
        "colab": {}
      },
      "source": [
        "import keras\n",
        "from keras.models import Sequential\n",
        "from keras.layers import Dense"
      ],
      "execution_count": 0,
      "outputs": []
    },
    {
      "cell_type": "code",
      "metadata": {
        "id": "bNxaFzVLJidU",
        "colab_type": "code",
        "colab": {}
      },
      "source": [
        "classifier = Sequential()"
      ],
      "execution_count": 0,
      "outputs": []
    },
    {
      "cell_type": "code",
      "metadata": {
        "id": "U9grQrU-LptL",
        "colab_type": "code",
        "outputId": "3c93c288-68c3-4f00-f0d6-2190baf2d32b",
        "colab": {
          "base_uri": "https://localhost:8080/",
          "height": 34
        }
      },
      "source": [
        "print(keras.__version__)"
      ],
      "execution_count": 166,
      "outputs": [
        {
          "output_type": "stream",
          "text": [
            "2.2.4\n"
          ],
          "name": "stdout"
        }
      ]
    },
    {
      "cell_type": "code",
      "metadata": {
        "id": "4O-awPdwdsZJ",
        "colab_type": "code",
        "colab": {}
      },
      "source": [
        "classifier.add(Dense(units = 6, kernel_initializer = 'uniform', activation = 'relu', input_dim = 11))\n",
        "classifier.add(Dense(units = 6, kernel_initializer = 'uniform', activation = 'relu'))"
      ],
      "execution_count": 0,
      "outputs": []
    },
    {
      "cell_type": "code",
      "metadata": {
        "id": "SPPZIWqJd3t6",
        "colab_type": "code",
        "colab": {}
      },
      "source": [
        "classifier.add(Dense(units = 1, kernel_initializer = 'uniform', activation = 'sigmoid'))"
      ],
      "execution_count": 0,
      "outputs": []
    },
    {
      "cell_type": "code",
      "metadata": {
        "id": "4vQ4jAwBeLeu",
        "colab_type": "code",
        "colab": {
          "base_uri": "https://localhost:8080/",
          "height": 121
        },
        "outputId": "1521a5b1-de11-4693-8257-7530aea55de8"
      },
      "source": [
        "classifier.compile(optimizer='adam',loss='binary_crossentropy',metrics = ['accuracy'])"
      ],
      "execution_count": 172,
      "outputs": [
        {
          "output_type": "stream",
          "text": [
            "W0726 09:11:42.785983 140186097137536 deprecation_wrapper.py:119] From /usr/local/lib/python3.6/dist-packages/keras/optimizers.py:790: The name tf.train.Optimizer is deprecated. Please use tf.compat.v1.train.Optimizer instead.\n",
            "\n",
            "W0726 09:11:42.825786 140186097137536 deprecation.py:323] From /usr/local/lib/python3.6/dist-packages/tensorflow/python/ops/nn_impl.py:180: add_dispatch_support.<locals>.wrapper (from tensorflow.python.ops.array_ops) is deprecated and will be removed in a future version.\n",
            "Instructions for updating:\n",
            "Use tf.where in 2.0, which has the same broadcast rule as np.where\n"
          ],
          "name": "stderr"
        }
      ]
    },
    {
      "cell_type": "code",
      "metadata": {
        "id": "dEE_S3ahjBxv",
        "colab_type": "code",
        "colab": {
          "base_uri": "https://localhost:8080/",
          "height": 1000
        },
        "outputId": "daf62e36-7935-476f-c829-902b837f80ee"
      },
      "source": [
        "classifier.fit(X_train,y_train,batch_size=10,nb_epoch=100)"
      ],
      "execution_count": 173,
      "outputs": [
        {
          "output_type": "stream",
          "text": [
            "/usr/local/lib/python3.6/dist-packages/ipykernel_launcher.py:1: UserWarning: The `nb_epoch` argument in `fit` has been renamed `epochs`.\n",
            "  \"\"\"Entry point for launching an IPython kernel.\n"
          ],
          "name": "stderr"
        },
        {
          "output_type": "stream",
          "text": [
            "Epoch 1/100\n",
            "8000/8000 [==============================] - 1s 171us/step - loss: 0.4852 - acc: 0.7957\n",
            "Epoch 2/100\n",
            "8000/8000 [==============================] - 1s 117us/step - loss: 0.4278 - acc: 0.7960\n",
            "Epoch 3/100\n",
            "8000/8000 [==============================] - 1s 115us/step - loss: 0.4220 - acc: 0.7974\n",
            "Epoch 4/100\n",
            "8000/8000 [==============================] - 1s 117us/step - loss: 0.4179 - acc: 0.8207\n",
            "Epoch 5/100\n",
            "8000/8000 [==============================] - 1s 117us/step - loss: 0.4155 - acc: 0.8282\n",
            "Epoch 6/100\n",
            "8000/8000 [==============================] - 1s 116us/step - loss: 0.4141 - acc: 0.8310\n",
            "Epoch 7/100\n",
            "8000/8000 [==============================] - 1s 112us/step - loss: 0.4121 - acc: 0.8310\n",
            "Epoch 8/100\n",
            "8000/8000 [==============================] - 1s 117us/step - loss: 0.4112 - acc: 0.8329\n",
            "Epoch 9/100\n",
            "8000/8000 [==============================] - 1s 114us/step - loss: 0.4100 - acc: 0.8327\n",
            "Epoch 10/100\n",
            "8000/8000 [==============================] - 1s 113us/step - loss: 0.4087 - acc: 0.8340\n",
            "Epoch 11/100\n",
            "8000/8000 [==============================] - 1s 116us/step - loss: 0.4080 - acc: 0.8335\n",
            "Epoch 12/100\n",
            "8000/8000 [==============================] - 1s 112us/step - loss: 0.4076 - acc: 0.8346\n",
            "Epoch 13/100\n",
            "8000/8000 [==============================] - 1s 109us/step - loss: 0.4070 - acc: 0.8361\n",
            "Epoch 14/100\n",
            "8000/8000 [==============================] - 1s 110us/step - loss: 0.4064 - acc: 0.8345\n",
            "Epoch 15/100\n",
            "8000/8000 [==============================] - 1s 111us/step - loss: 0.4056 - acc: 0.8356\n",
            "Epoch 16/100\n",
            "8000/8000 [==============================] - 1s 110us/step - loss: 0.4056 - acc: 0.8339\n",
            "Epoch 17/100\n",
            "8000/8000 [==============================] - 1s 111us/step - loss: 0.4049 - acc: 0.8339\n",
            "Epoch 18/100\n",
            "8000/8000 [==============================] - 1s 111us/step - loss: 0.4046 - acc: 0.8350\n",
            "Epoch 19/100\n",
            "8000/8000 [==============================] - 1s 111us/step - loss: 0.4046 - acc: 0.8340\n",
            "Epoch 20/100\n",
            "8000/8000 [==============================] - 1s 118us/step - loss: 0.4041 - acc: 0.8341\n",
            "Epoch 21/100\n",
            "8000/8000 [==============================] - 1s 112us/step - loss: 0.4037 - acc: 0.8342\n",
            "Epoch 22/100\n",
            "8000/8000 [==============================] - 1s 109us/step - loss: 0.4031 - acc: 0.8349\n",
            "Epoch 23/100\n",
            "8000/8000 [==============================] - 1s 111us/step - loss: 0.4032 - acc: 0.8345\n",
            "Epoch 24/100\n",
            "8000/8000 [==============================] - 1s 110us/step - loss: 0.4026 - acc: 0.8351\n",
            "Epoch 25/100\n",
            "8000/8000 [==============================] - 1s 110us/step - loss: 0.4031 - acc: 0.8336\n",
            "Epoch 26/100\n",
            "8000/8000 [==============================] - 1s 113us/step - loss: 0.4018 - acc: 0.8341\n",
            "Epoch 27/100\n",
            "8000/8000 [==============================] - 1s 113us/step - loss: 0.4022 - acc: 0.8340\n",
            "Epoch 28/100\n",
            "8000/8000 [==============================] - 1s 113us/step - loss: 0.4020 - acc: 0.8351\n",
            "Epoch 29/100\n",
            "8000/8000 [==============================] - 1s 112us/step - loss: 0.4022 - acc: 0.8341\n",
            "Epoch 30/100\n",
            "8000/8000 [==============================] - 1s 113us/step - loss: 0.4024 - acc: 0.8339\n",
            "Epoch 31/100\n",
            "8000/8000 [==============================] - 1s 115us/step - loss: 0.4023 - acc: 0.8330\n",
            "Epoch 32/100\n",
            "8000/8000 [==============================] - 1s 110us/step - loss: 0.4017 - acc: 0.8332\n",
            "Epoch 33/100\n",
            "8000/8000 [==============================] - 1s 111us/step - loss: 0.4021 - acc: 0.8355\n",
            "Epoch 34/100\n",
            "8000/8000 [==============================] - 1s 113us/step - loss: 0.4016 - acc: 0.8344\n",
            "Epoch 35/100\n",
            "8000/8000 [==============================] - 1s 117us/step - loss: 0.4016 - acc: 0.8347\n",
            "Epoch 36/100\n",
            "8000/8000 [==============================] - 1s 112us/step - loss: 0.4018 - acc: 0.8362\n",
            "Epoch 37/100\n",
            "8000/8000 [==============================] - 1s 112us/step - loss: 0.4018 - acc: 0.8354\n",
            "Epoch 38/100\n",
            "8000/8000 [==============================] - 1s 113us/step - loss: 0.4012 - acc: 0.8357\n",
            "Epoch 39/100\n",
            "8000/8000 [==============================] - 1s 110us/step - loss: 0.4012 - acc: 0.8346\n",
            "Epoch 40/100\n",
            "8000/8000 [==============================] - 1s 109us/step - loss: 0.4010 - acc: 0.8345\n",
            "Epoch 41/100\n",
            "8000/8000 [==============================] - 1s 113us/step - loss: 0.4013 - acc: 0.8377\n",
            "Epoch 42/100\n",
            "8000/8000 [==============================] - 1s 116us/step - loss: 0.4014 - acc: 0.8344\n",
            "Epoch 43/100\n",
            "8000/8000 [==============================] - 1s 112us/step - loss: 0.4008 - acc: 0.8356\n",
            "Epoch 44/100\n",
            "8000/8000 [==============================] - 1s 112us/step - loss: 0.4011 - acc: 0.8361\n",
            "Epoch 45/100\n",
            "8000/8000 [==============================] - 1s 113us/step - loss: 0.4010 - acc: 0.8350\n",
            "Epoch 46/100\n",
            "8000/8000 [==============================] - 1s 114us/step - loss: 0.4009 - acc: 0.8354\n",
            "Epoch 47/100\n",
            "8000/8000 [==============================] - 1s 112us/step - loss: 0.4009 - acc: 0.8340\n",
            "Epoch 48/100\n",
            "8000/8000 [==============================] - 1s 113us/step - loss: 0.4009 - acc: 0.8349\n",
            "Epoch 49/100\n",
            "8000/8000 [==============================] - 1s 112us/step - loss: 0.4006 - acc: 0.8370\n",
            "Epoch 50/100\n",
            "8000/8000 [==============================] - 1s 111us/step - loss: 0.4005 - acc: 0.8359\n",
            "Epoch 51/100\n",
            "8000/8000 [==============================] - 1s 117us/step - loss: 0.4007 - acc: 0.8366\n",
            "Epoch 52/100\n",
            "8000/8000 [==============================] - 1s 113us/step - loss: 0.4010 - acc: 0.8354\n",
            "Epoch 53/100\n",
            "8000/8000 [==============================] - 1s 113us/step - loss: 0.4005 - acc: 0.8347\n",
            "Epoch 54/100\n",
            "8000/8000 [==============================] - 1s 112us/step - loss: 0.4008 - acc: 0.8356\n",
            "Epoch 55/100\n",
            "8000/8000 [==============================] - 1s 110us/step - loss: 0.4005 - acc: 0.8345\n",
            "Epoch 56/100\n",
            "8000/8000 [==============================] - 1s 112us/step - loss: 0.4007 - acc: 0.8355\n",
            "Epoch 57/100\n",
            "8000/8000 [==============================] - 1s 112us/step - loss: 0.4010 - acc: 0.8371\n",
            "Epoch 58/100\n",
            "8000/8000 [==============================] - 1s 114us/step - loss: 0.4005 - acc: 0.8340\n",
            "Epoch 59/100\n",
            "8000/8000 [==============================] - 1s 112us/step - loss: 0.4003 - acc: 0.8359\n",
            "Epoch 60/100\n",
            "8000/8000 [==============================] - 1s 113us/step - loss: 0.4003 - acc: 0.8364\n",
            "Epoch 61/100\n",
            "8000/8000 [==============================] - 1s 112us/step - loss: 0.4005 - acc: 0.8351\n",
            "Epoch 62/100\n",
            "8000/8000 [==============================] - 1s 113us/step - loss: 0.4004 - acc: 0.8364\n",
            "Epoch 63/100\n",
            "8000/8000 [==============================] - 1s 113us/step - loss: 0.4003 - acc: 0.8354\n",
            "Epoch 64/100\n",
            "8000/8000 [==============================] - 1s 112us/step - loss: 0.4005 - acc: 0.8364\n",
            "Epoch 65/100\n",
            "8000/8000 [==============================] - 1s 112us/step - loss: 0.4004 - acc: 0.8354\n",
            "Epoch 66/100\n",
            "8000/8000 [==============================] - 1s 111us/step - loss: 0.4006 - acc: 0.8356\n",
            "Epoch 67/100\n",
            "8000/8000 [==============================] - 1s 113us/step - loss: 0.4001 - acc: 0.8362\n",
            "Epoch 68/100\n",
            "8000/8000 [==============================] - 1s 113us/step - loss: 0.4004 - acc: 0.8341\n",
            "Epoch 69/100\n",
            "8000/8000 [==============================] - 1s 113us/step - loss: 0.4004 - acc: 0.8349\n",
            "Epoch 70/100\n",
            "8000/8000 [==============================] - 1s 111us/step - loss: 0.3997 - acc: 0.8340\n",
            "Epoch 71/100\n",
            "8000/8000 [==============================] - 1s 114us/step - loss: 0.4000 - acc: 0.8362\n",
            "Epoch 72/100\n",
            "8000/8000 [==============================] - 1s 112us/step - loss: 0.4001 - acc: 0.8350\n",
            "Epoch 73/100\n",
            "8000/8000 [==============================] - 1s 116us/step - loss: 0.4002 - acc: 0.8366\n",
            "Epoch 74/100\n",
            "8000/8000 [==============================] - 1s 115us/step - loss: 0.4001 - acc: 0.8340\n",
            "Epoch 75/100\n",
            "8000/8000 [==============================] - 1s 113us/step - loss: 0.4001 - acc: 0.8342\n",
            "Epoch 76/100\n",
            "8000/8000 [==============================] - 1s 113us/step - loss: 0.4005 - acc: 0.8355\n",
            "Epoch 77/100\n",
            "8000/8000 [==============================] - 1s 112us/step - loss: 0.4003 - acc: 0.8346\n",
            "Epoch 78/100\n",
            "8000/8000 [==============================] - 1s 112us/step - loss: 0.4004 - acc: 0.8354\n",
            "Epoch 79/100\n",
            "8000/8000 [==============================] - 1s 110us/step - loss: 0.4004 - acc: 0.8350\n",
            "Epoch 80/100\n",
            "8000/8000 [==============================] - 1s 110us/step - loss: 0.3998 - acc: 0.8347\n",
            "Epoch 81/100\n",
            "8000/8000 [==============================] - 1s 111us/step - loss: 0.4003 - acc: 0.8371\n",
            "Epoch 82/100\n",
            "8000/8000 [==============================] - 1s 112us/step - loss: 0.4001 - acc: 0.8355\n",
            "Epoch 83/100\n",
            "8000/8000 [==============================] - 1s 112us/step - loss: 0.4006 - acc: 0.8351\n",
            "Epoch 84/100\n",
            "8000/8000 [==============================] - 1s 112us/step - loss: 0.4002 - acc: 0.8347\n",
            "Epoch 85/100\n",
            "8000/8000 [==============================] - 1s 113us/step - loss: 0.3999 - acc: 0.8352\n",
            "Epoch 86/100\n",
            "8000/8000 [==============================] - 1s 114us/step - loss: 0.3997 - acc: 0.8357\n",
            "Epoch 87/100\n",
            "8000/8000 [==============================] - 1s 111us/step - loss: 0.4002 - acc: 0.8356\n",
            "Epoch 88/100\n",
            "8000/8000 [==============================] - 1s 111us/step - loss: 0.4001 - acc: 0.8365\n",
            "Epoch 89/100\n",
            "8000/8000 [==============================] - 1s 109us/step - loss: 0.4000 - acc: 0.8354\n",
            "Epoch 90/100\n",
            "8000/8000 [==============================] - 1s 110us/step - loss: 0.4001 - acc: 0.8374\n",
            "Epoch 91/100\n",
            "8000/8000 [==============================] - 1s 114us/step - loss: 0.4002 - acc: 0.8336\n",
            "Epoch 92/100\n",
            "8000/8000 [==============================] - 1s 115us/step - loss: 0.4006 - acc: 0.8349\n",
            "Epoch 93/100\n",
            "8000/8000 [==============================] - 1s 114us/step - loss: 0.4002 - acc: 0.8350\n",
            "Epoch 94/100\n",
            "8000/8000 [==============================] - 1s 114us/step - loss: 0.4000 - acc: 0.8360\n",
            "Epoch 95/100\n",
            "8000/8000 [==============================] - 1s 117us/step - loss: 0.4000 - acc: 0.8350\n",
            "Epoch 96/100\n",
            "8000/8000 [==============================] - 1s 112us/step - loss: 0.4000 - acc: 0.8336\n",
            "Epoch 97/100\n",
            "8000/8000 [==============================] - 1s 113us/step - loss: 0.4000 - acc: 0.8365\n",
            "Epoch 98/100\n",
            "8000/8000 [==============================] - 1s 114us/step - loss: 0.3997 - acc: 0.8365\n",
            "Epoch 99/100\n",
            "8000/8000 [==============================] - 1s 112us/step - loss: 0.3999 - acc: 0.8377\n",
            "Epoch 100/100\n",
            "8000/8000 [==============================] - 1s 110us/step - loss: 0.3998 - acc: 0.8350\n"
          ],
          "name": "stdout"
        },
        {
          "output_type": "execute_result",
          "data": {
            "text/plain": [
              "<keras.callbacks.History at 0x7f7f5b5541d0>"
            ]
          },
          "metadata": {
            "tags": []
          },
          "execution_count": 173
        }
      ]
    },
    {
      "cell_type": "code",
      "metadata": {
        "id": "ExG2YTEJfRcH",
        "colab_type": "code",
        "colab": {}
      },
      "source": [
        "y_pred = classifier.predict(X_test)"
      ],
      "execution_count": 0,
      "outputs": []
    },
    {
      "cell_type": "code",
      "metadata": {
        "id": "NqQiIHkYmAOq",
        "colab_type": "code",
        "colab": {
          "base_uri": "https://localhost:8080/",
          "height": 134
        },
        "outputId": "178b36dc-0321-4412-8ab8-d01cc1e2852b"
      },
      "source": [
        "y_pred"
      ],
      "execution_count": 176,
      "outputs": [
        {
          "output_type": "execute_result",
          "data": {
            "text/plain": [
              "array([[0.19743356],\n",
              "       [0.3310637 ],\n",
              "       [0.13224661],\n",
              "       ...,\n",
              "       [0.16764498],\n",
              "       [0.14709711],\n",
              "       [0.12068498]], dtype=float32)"
            ]
          },
          "metadata": {
            "tags": []
          },
          "execution_count": 176
        }
      ]
    },
    {
      "cell_type": "code",
      "metadata": {
        "id": "MbJpLxyMoko9",
        "colab_type": "code",
        "colab": {}
      },
      "source": [
        "y_pred = (y_pred > 0.5 )"
      ],
      "execution_count": 0,
      "outputs": []
    },
    {
      "cell_type": "code",
      "metadata": {
        "id": "p5cuFyMNfy2o",
        "colab_type": "code",
        "colab": {}
      },
      "source": [
        "from sklearn.metrics import confusion_matrix\n",
        "cm = confusion_matrix(y_test,y_pred)"
      ],
      "execution_count": 0,
      "outputs": []
    },
    {
      "cell_type": "code",
      "metadata": {
        "id": "P14n60GPrVaz",
        "colab_type": "code",
        "colab": {
          "base_uri": "https://localhost:8080/",
          "height": 50
        },
        "outputId": "8f3237b0-6d8e-4a56-8284-6c8066faf6c8"
      },
      "source": [
        "cm"
      ],
      "execution_count": 182,
      "outputs": [
        {
          "output_type": "execute_result",
          "data": {
            "text/plain": [
              "array([[1546,   49],\n",
              "       [ 266,  139]])"
            ]
          },
          "metadata": {
            "tags": []
          },
          "execution_count": 182
        }
      ]
    },
    {
      "cell_type": "code",
      "metadata": {
        "id": "q2PBVCaCrXkQ",
        "colab_type": "code",
        "colab": {
          "base_uri": "https://localhost:8080/",
          "height": 34
        },
        "outputId": "78ed5fc5-d73c-4ae6-d53d-cad70404e5a8"
      },
      "source": [
        "(1546+139)/2000"
      ],
      "execution_count": 183,
      "outputs": [
        {
          "output_type": "execute_result",
          "data": {
            "text/plain": [
              "0.8425"
            ]
          },
          "metadata": {
            "tags": []
          },
          "execution_count": 183
        }
      ]
    },
    {
      "cell_type": "code",
      "metadata": {
        "id": "nBp2jCHOru-1",
        "colab_type": "code",
        "colab": {}
      },
      "source": [
        ""
      ],
      "execution_count": 0,
      "outputs": []
    }
  ]
}