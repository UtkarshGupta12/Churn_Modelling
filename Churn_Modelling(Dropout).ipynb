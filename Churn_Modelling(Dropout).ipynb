{
  "nbformat": 4,
  "nbformat_minor": 0,
  "metadata": {
    "colab": {
      "name": "Churn_Modelling(Dropout).ipynb",
      "version": "0.3.2",
      "provenance": [],
      "collapsed_sections": [],
      "include_colab_link": true
    },
    "kernelspec": {
      "name": "python3",
      "display_name": "Python 3"
    }
  },
  "cells": [
    {
      "cell_type": "markdown",
      "metadata": {
        "id": "view-in-github",
        "colab_type": "text"
      },
      "source": [
        "<a href=\"https://colab.research.google.com/github/UtkarshGupta12/Churn_Modelling/blob/master/Churn_Modelling(Dropout).ipynb\" target=\"_parent\"><img src=\"https://colab.research.google.com/assets/colab-badge.svg\" alt=\"Open In Colab\"/></a>"
      ]
    },
    {
      "cell_type": "code",
      "metadata": {
        "id": "maqwRYe_Ev10",
        "colab_type": "code",
        "colab": {}
      },
      "source": [
        "import numpy as np \n",
        "import pandas as pd "
      ],
      "execution_count": 0,
      "outputs": []
    },
    {
      "cell_type": "code",
      "metadata": {
        "id": "iS6OdAaNFkEM",
        "colab_type": "code",
        "colab": {}
      },
      "source": [
        "import keras"
      ],
      "execution_count": 0,
      "outputs": []
    },
    {
      "cell_type": "code",
      "metadata": {
        "id": "7jVhUEaM30sr",
        "colab_type": "code",
        "colab": {}
      },
      "source": [
        "df = pd.read_csv('https://raw.githubusercontent.com/UtkarshGupta12/Churn_Modelling/master/Churn_Modelling.csv')"
      ],
      "execution_count": 0,
      "outputs": []
    },
    {
      "cell_type": "code",
      "metadata": {
        "id": "mXq7TIxN5AiE",
        "colab_type": "code",
        "outputId": "9a8a4705-9b58-4d16-dfe4-79fd97464771",
        "colab": {
          "base_uri": "https://localhost:8080/",
          "height": 195
        }
      },
      "source": [
        "df.head()"
      ],
      "execution_count": 193,
      "outputs": [
        {
          "output_type": "execute_result",
          "data": {
            "text/html": [
              "<div>\n",
              "<style scoped>\n",
              "    .dataframe tbody tr th:only-of-type {\n",
              "        vertical-align: middle;\n",
              "    }\n",
              "\n",
              "    .dataframe tbody tr th {\n",
              "        vertical-align: top;\n",
              "    }\n",
              "\n",
              "    .dataframe thead th {\n",
              "        text-align: right;\n",
              "    }\n",
              "</style>\n",
              "<table border=\"1\" class=\"dataframe\">\n",
              "  <thead>\n",
              "    <tr style=\"text-align: right;\">\n",
              "      <th></th>\n",
              "      <th>RowNumber</th>\n",
              "      <th>CustomerId</th>\n",
              "      <th>Surname</th>\n",
              "      <th>CreditScore</th>\n",
              "      <th>Geography</th>\n",
              "      <th>Gender</th>\n",
              "      <th>Age</th>\n",
              "      <th>Tenure</th>\n",
              "      <th>Balance</th>\n",
              "      <th>NumOfProducts</th>\n",
              "      <th>HasCrCard</th>\n",
              "      <th>IsActiveMember</th>\n",
              "      <th>EstimatedSalary</th>\n",
              "      <th>Exited</th>\n",
              "    </tr>\n",
              "  </thead>\n",
              "  <tbody>\n",
              "    <tr>\n",
              "      <th>0</th>\n",
              "      <td>1</td>\n",
              "      <td>15634602</td>\n",
              "      <td>Hargrave</td>\n",
              "      <td>619</td>\n",
              "      <td>France</td>\n",
              "      <td>Female</td>\n",
              "      <td>42</td>\n",
              "      <td>2</td>\n",
              "      <td>0.00</td>\n",
              "      <td>1</td>\n",
              "      <td>1</td>\n",
              "      <td>1</td>\n",
              "      <td>101348.88</td>\n",
              "      <td>1</td>\n",
              "    </tr>\n",
              "    <tr>\n",
              "      <th>1</th>\n",
              "      <td>2</td>\n",
              "      <td>15647311</td>\n",
              "      <td>Hill</td>\n",
              "      <td>608</td>\n",
              "      <td>Spain</td>\n",
              "      <td>Female</td>\n",
              "      <td>41</td>\n",
              "      <td>1</td>\n",
              "      <td>83807.86</td>\n",
              "      <td>1</td>\n",
              "      <td>0</td>\n",
              "      <td>1</td>\n",
              "      <td>112542.58</td>\n",
              "      <td>0</td>\n",
              "    </tr>\n",
              "    <tr>\n",
              "      <th>2</th>\n",
              "      <td>3</td>\n",
              "      <td>15619304</td>\n",
              "      <td>Onio</td>\n",
              "      <td>502</td>\n",
              "      <td>France</td>\n",
              "      <td>Female</td>\n",
              "      <td>42</td>\n",
              "      <td>8</td>\n",
              "      <td>159660.80</td>\n",
              "      <td>3</td>\n",
              "      <td>1</td>\n",
              "      <td>0</td>\n",
              "      <td>113931.57</td>\n",
              "      <td>1</td>\n",
              "    </tr>\n",
              "    <tr>\n",
              "      <th>3</th>\n",
              "      <td>4</td>\n",
              "      <td>15701354</td>\n",
              "      <td>Boni</td>\n",
              "      <td>699</td>\n",
              "      <td>France</td>\n",
              "      <td>Female</td>\n",
              "      <td>39</td>\n",
              "      <td>1</td>\n",
              "      <td>0.00</td>\n",
              "      <td>2</td>\n",
              "      <td>0</td>\n",
              "      <td>0</td>\n",
              "      <td>93826.63</td>\n",
              "      <td>0</td>\n",
              "    </tr>\n",
              "    <tr>\n",
              "      <th>4</th>\n",
              "      <td>5</td>\n",
              "      <td>15737888</td>\n",
              "      <td>Mitchell</td>\n",
              "      <td>850</td>\n",
              "      <td>Spain</td>\n",
              "      <td>Female</td>\n",
              "      <td>43</td>\n",
              "      <td>2</td>\n",
              "      <td>125510.82</td>\n",
              "      <td>1</td>\n",
              "      <td>1</td>\n",
              "      <td>1</td>\n",
              "      <td>79084.10</td>\n",
              "      <td>0</td>\n",
              "    </tr>\n",
              "  </tbody>\n",
              "</table>\n",
              "</div>"
            ],
            "text/plain": [
              "   RowNumber  CustomerId   Surname  ...  IsActiveMember EstimatedSalary Exited\n",
              "0          1    15634602  Hargrave  ...               1       101348.88      1\n",
              "1          2    15647311      Hill  ...               1       112542.58      0\n",
              "2          3    15619304      Onio  ...               0       113931.57      1\n",
              "3          4    15701354      Boni  ...               0        93826.63      0\n",
              "4          5    15737888  Mitchell  ...               1        79084.10      0\n",
              "\n",
              "[5 rows x 14 columns]"
            ]
          },
          "metadata": {
            "tags": []
          },
          "execution_count": 193
        }
      ]
    },
    {
      "cell_type": "code",
      "metadata": {
        "id": "8JssU-Aq5IGn",
        "colab_type": "code",
        "colab": {}
      },
      "source": [
        "import matplotlib.pyplot as plt"
      ],
      "execution_count": 0,
      "outputs": []
    },
    {
      "cell_type": "code",
      "metadata": {
        "id": "-yKIE2Lm5Y1J",
        "colab_type": "code",
        "colab": {}
      },
      "source": [
        "df2 = df\n",
        "df2 = df2.drop(['RowNumber','CustomerId','Surname'],axis=1)"
      ],
      "execution_count": 0,
      "outputs": []
    },
    {
      "cell_type": "code",
      "metadata": {
        "id": "kvN4DSNX5vvz",
        "colab_type": "code",
        "outputId": "2177c9b2-2978-4829-ef84-159d6dcbccf5",
        "colab": {
          "base_uri": "https://localhost:8080/",
          "height": 195
        }
      },
      "source": [
        "df2.head()"
      ],
      "execution_count": 196,
      "outputs": [
        {
          "output_type": "execute_result",
          "data": {
            "text/html": [
              "<div>\n",
              "<style scoped>\n",
              "    .dataframe tbody tr th:only-of-type {\n",
              "        vertical-align: middle;\n",
              "    }\n",
              "\n",
              "    .dataframe tbody tr th {\n",
              "        vertical-align: top;\n",
              "    }\n",
              "\n",
              "    .dataframe thead th {\n",
              "        text-align: right;\n",
              "    }\n",
              "</style>\n",
              "<table border=\"1\" class=\"dataframe\">\n",
              "  <thead>\n",
              "    <tr style=\"text-align: right;\">\n",
              "      <th></th>\n",
              "      <th>CreditScore</th>\n",
              "      <th>Geography</th>\n",
              "      <th>Gender</th>\n",
              "      <th>Age</th>\n",
              "      <th>Tenure</th>\n",
              "      <th>Balance</th>\n",
              "      <th>NumOfProducts</th>\n",
              "      <th>HasCrCard</th>\n",
              "      <th>IsActiveMember</th>\n",
              "      <th>EstimatedSalary</th>\n",
              "      <th>Exited</th>\n",
              "    </tr>\n",
              "  </thead>\n",
              "  <tbody>\n",
              "    <tr>\n",
              "      <th>0</th>\n",
              "      <td>619</td>\n",
              "      <td>France</td>\n",
              "      <td>Female</td>\n",
              "      <td>42</td>\n",
              "      <td>2</td>\n",
              "      <td>0.00</td>\n",
              "      <td>1</td>\n",
              "      <td>1</td>\n",
              "      <td>1</td>\n",
              "      <td>101348.88</td>\n",
              "      <td>1</td>\n",
              "    </tr>\n",
              "    <tr>\n",
              "      <th>1</th>\n",
              "      <td>608</td>\n",
              "      <td>Spain</td>\n",
              "      <td>Female</td>\n",
              "      <td>41</td>\n",
              "      <td>1</td>\n",
              "      <td>83807.86</td>\n",
              "      <td>1</td>\n",
              "      <td>0</td>\n",
              "      <td>1</td>\n",
              "      <td>112542.58</td>\n",
              "      <td>0</td>\n",
              "    </tr>\n",
              "    <tr>\n",
              "      <th>2</th>\n",
              "      <td>502</td>\n",
              "      <td>France</td>\n",
              "      <td>Female</td>\n",
              "      <td>42</td>\n",
              "      <td>8</td>\n",
              "      <td>159660.80</td>\n",
              "      <td>3</td>\n",
              "      <td>1</td>\n",
              "      <td>0</td>\n",
              "      <td>113931.57</td>\n",
              "      <td>1</td>\n",
              "    </tr>\n",
              "    <tr>\n",
              "      <th>3</th>\n",
              "      <td>699</td>\n",
              "      <td>France</td>\n",
              "      <td>Female</td>\n",
              "      <td>39</td>\n",
              "      <td>1</td>\n",
              "      <td>0.00</td>\n",
              "      <td>2</td>\n",
              "      <td>0</td>\n",
              "      <td>0</td>\n",
              "      <td>93826.63</td>\n",
              "      <td>0</td>\n",
              "    </tr>\n",
              "    <tr>\n",
              "      <th>4</th>\n",
              "      <td>850</td>\n",
              "      <td>Spain</td>\n",
              "      <td>Female</td>\n",
              "      <td>43</td>\n",
              "      <td>2</td>\n",
              "      <td>125510.82</td>\n",
              "      <td>1</td>\n",
              "      <td>1</td>\n",
              "      <td>1</td>\n",
              "      <td>79084.10</td>\n",
              "      <td>0</td>\n",
              "    </tr>\n",
              "  </tbody>\n",
              "</table>\n",
              "</div>"
            ],
            "text/plain": [
              "   CreditScore Geography  Gender  ...  IsActiveMember  EstimatedSalary  Exited\n",
              "0          619    France  Female  ...               1        101348.88       1\n",
              "1          608     Spain  Female  ...               1        112542.58       0\n",
              "2          502    France  Female  ...               0        113931.57       1\n",
              "3          699    France  Female  ...               0         93826.63       0\n",
              "4          850     Spain  Female  ...               1         79084.10       0\n",
              "\n",
              "[5 rows x 11 columns]"
            ]
          },
          "metadata": {
            "tags": []
          },
          "execution_count": 196
        }
      ]
    },
    {
      "cell_type": "code",
      "metadata": {
        "id": "oc2OUA816p1H",
        "colab_type": "code",
        "colab": {}
      },
      "source": [
        "X = df.iloc[ : , 3:13].values\n",
        "y = df.iloc[ : ,13].values"
      ],
      "execution_count": 0,
      "outputs": []
    },
    {
      "cell_type": "code",
      "metadata": {
        "id": "0Fstdwn17JBx",
        "colab_type": "code",
        "outputId": "d7cbcd64-9618-4f28-f885-3f8eeb836f06",
        "colab": {
          "base_uri": "https://localhost:8080/",
          "height": 138
        }
      },
      "source": [
        "from sklearn.preprocessing import LabelEncoder, OneHotEncoder\n",
        "labelencoder_X_1 = LabelEncoder()\n",
        "X[ : , 1]=labelencoder_X_1.fit_transform(X[ : , 1])\n",
        "labelencoder_X_2 = LabelEncoder()\n",
        "X[ : , 2]=labelencoder_X_2.fit_transform(X[ : , 2])\n",
        "onehotencoder = OneHotEncoder(categorical_features = [1])\n",
        "X = onehotencoder.fit_transform(X).toarray()\n",
        "X = X[ : , 1:]"
      ],
      "execution_count": 198,
      "outputs": [
        {
          "output_type": "stream",
          "text": [
            "/usr/local/lib/python3.6/dist-packages/sklearn/preprocessing/_encoders.py:415: FutureWarning: The handling of integer data will change in version 0.22. Currently, the categories are determined based on the range [0, max(values)], while in the future they will be determined based on the unique values.\n",
            "If you want the future behaviour and silence this warning, you can specify \"categories='auto'\".\n",
            "In case you used a LabelEncoder before this OneHotEncoder to convert the categories to integers, then you can now use the OneHotEncoder directly.\n",
            "  warnings.warn(msg, FutureWarning)\n",
            "/usr/local/lib/python3.6/dist-packages/sklearn/preprocessing/_encoders.py:451: DeprecationWarning: The 'categorical_features' keyword is deprecated in version 0.20 and will be removed in 0.22. You can use the ColumnTransformer instead.\n",
            "  \"use the ColumnTransformer instead.\", DeprecationWarning)\n"
          ],
          "name": "stderr"
        }
      ]
    },
    {
      "cell_type": "code",
      "metadata": {
        "id": "iSKAa03ZIEs4",
        "colab_type": "code",
        "outputId": "ffb56f38-2bbb-41df-a29a-292723dfd3de",
        "colab": {
          "base_uri": "https://localhost:8080/",
          "height": 34
        }
      },
      "source": [
        "X.shape"
      ],
      "execution_count": 199,
      "outputs": [
        {
          "output_type": "execute_result",
          "data": {
            "text/plain": [
              "(10000, 11)"
            ]
          },
          "metadata": {
            "tags": []
          },
          "execution_count": 199
        }
      ]
    },
    {
      "cell_type": "code",
      "metadata": {
        "id": "4WtBXq8jIFzO",
        "colab_type": "code",
        "outputId": "a2187a01-8fcd-4ebb-af84-cf0e52d70643",
        "colab": {
          "base_uri": "https://localhost:8080/",
          "height": 34
        }
      },
      "source": [
        "y.shape"
      ],
      "execution_count": 200,
      "outputs": [
        {
          "output_type": "execute_result",
          "data": {
            "text/plain": [
              "(10000,)"
            ]
          },
          "metadata": {
            "tags": []
          },
          "execution_count": 200
        }
      ]
    },
    {
      "cell_type": "code",
      "metadata": {
        "id": "OzCPRvY89__K",
        "colab_type": "code",
        "colab": {}
      },
      "source": [
        "from sklearn.model_selection import train_test_split\n",
        "X_train , X_test , y_train , y_test = train_test_split(X,y,test_size=0.2 , random_state = 0)"
      ],
      "execution_count": 0,
      "outputs": []
    },
    {
      "cell_type": "code",
      "metadata": {
        "id": "-0JeJermCUb_",
        "colab_type": "code",
        "colab": {}
      },
      "source": [
        "from sklearn.preprocessing import StandardScaler\n",
        "sc = StandardScaler()\n",
        "X_train = sc.fit_transform(X_train)\n",
        "X_test = sc.transform(X_test)"
      ],
      "execution_count": 0,
      "outputs": []
    },
    {
      "cell_type": "code",
      "metadata": {
        "id": "7DxMZnqZJRIF",
        "colab_type": "code",
        "colab": {}
      },
      "source": [
        "import keras\n",
        "from keras.models import Sequential\n",
        "from keras.layers import Dense\n",
        "from keras.layers import Dropout"
      ],
      "execution_count": 0,
      "outputs": []
    },
    {
      "cell_type": "code",
      "metadata": {
        "id": "bNxaFzVLJidU",
        "colab_type": "code",
        "colab": {}
      },
      "source": [
        "classifier = Sequential()"
      ],
      "execution_count": 0,
      "outputs": []
    },
    {
      "cell_type": "code",
      "metadata": {
        "id": "U9grQrU-LptL",
        "colab_type": "code",
        "outputId": "45f3d2f7-bf63-4a63-d62a-7a1494a54b20",
        "colab": {
          "base_uri": "https://localhost:8080/",
          "height": 34
        }
      },
      "source": [
        "print(keras.__version__)"
      ],
      "execution_count": 205,
      "outputs": [
        {
          "output_type": "stream",
          "text": [
            "2.2.4\n"
          ],
          "name": "stdout"
        }
      ]
    },
    {
      "cell_type": "code",
      "metadata": {
        "id": "4O-awPdwdsZJ",
        "colab_type": "code",
        "colab": {
          "base_uri": "https://localhost:8080/",
          "height": 154
        },
        "outputId": "1aecd6df-d47d-41ca-f242-b06cb8ff33fa"
      },
      "source": [
        "classifier.add(Dense(units = 6, kernel_initializer = 'uniform', activation = 'relu', input_dim = 11))\n",
        "classifier.add(Dropout(p =0.1))\n",
        "\n",
        "classifier.add(Dense(units = 6, kernel_initializer = 'uniform', activation = 'relu'))\n",
        "classifier.add(Dropout(p =0.1))"
      ],
      "execution_count": 206,
      "outputs": [
        {
          "output_type": "stream",
          "text": [
            "/usr/local/lib/python3.6/dist-packages/ipykernel_launcher.py:2: UserWarning: Update your `Dropout` call to the Keras 2 API: `Dropout(rate=0.1)`\n",
            "  \n",
            "W0726 11:05:51.664500 140186097137536 deprecation.py:506] From /usr/local/lib/python3.6/dist-packages/keras/backend/tensorflow_backend.py:3445: calling dropout (from tensorflow.python.ops.nn_ops) with keep_prob is deprecated and will be removed in a future version.\n",
            "Instructions for updating:\n",
            "Please use `rate` instead of `keep_prob`. Rate should be set to `rate = 1 - keep_prob`.\n",
            "/usr/local/lib/python3.6/dist-packages/ipykernel_launcher.py:5: UserWarning: Update your `Dropout` call to the Keras 2 API: `Dropout(rate=0.1)`\n",
            "  \"\"\"\n"
          ],
          "name": "stderr"
        }
      ]
    },
    {
      "cell_type": "code",
      "metadata": {
        "id": "SPPZIWqJd3t6",
        "colab_type": "code",
        "colab": {}
      },
      "source": [
        "classifier.add(Dense(units = 1, kernel_initializer = 'uniform', activation = 'sigmoid'))"
      ],
      "execution_count": 0,
      "outputs": []
    },
    {
      "cell_type": "code",
      "metadata": {
        "id": "4vQ4jAwBeLeu",
        "colab_type": "code",
        "colab": {}
      },
      "source": [
        "classifier.compile(optimizer='adam',loss='binary_crossentropy',metrics = ['accuracy'])"
      ],
      "execution_count": 0,
      "outputs": []
    },
    {
      "cell_type": "code",
      "metadata": {
        "id": "dEE_S3ahjBxv",
        "colab_type": "code",
        "colab": {
          "base_uri": "https://localhost:8080/",
          "height": 1000
        },
        "outputId": "3f47ea3a-1a94-49f7-db0d-923cf4154694"
      },
      "source": [
        "classifier.fit(X_train,y_train,batch_size=10,nb_epoch=100)"
      ],
      "execution_count": 209,
      "outputs": [
        {
          "output_type": "stream",
          "text": [
            "/usr/local/lib/python3.6/dist-packages/ipykernel_launcher.py:1: UserWarning: The `nb_epoch` argument in `fit` has been renamed `epochs`.\n",
            "  \"\"\"Entry point for launching an IPython kernel.\n"
          ],
          "name": "stderr"
        },
        {
          "output_type": "stream",
          "text": [
            "Epoch 1/100\n",
            "8000/8000 [==============================] - 1s 165us/step - loss: 0.5218 - acc: 0.7956\n",
            "Epoch 2/100\n",
            "8000/8000 [==============================] - 1s 123us/step - loss: 0.4424 - acc: 0.8144\n",
            "Epoch 3/100\n",
            "8000/8000 [==============================] - 1s 123us/step - loss: 0.4265 - acc: 0.8207\n",
            "Epoch 4/100\n",
            "8000/8000 [==============================] - 1s 136us/step - loss: 0.4205 - acc: 0.8242\n",
            "Epoch 5/100\n",
            "8000/8000 [==============================] - 1s 134us/step - loss: 0.4210 - acc: 0.8216\n",
            "Epoch 6/100\n",
            "8000/8000 [==============================] - 1s 143us/step - loss: 0.4184 - acc: 0.8231\n",
            "Epoch 7/100\n",
            "8000/8000 [==============================] - 1s 137us/step - loss: 0.4129 - acc: 0.8210\n",
            "Epoch 8/100\n",
            "8000/8000 [==============================] - 1s 145us/step - loss: 0.4101 - acc: 0.8230\n",
            "Epoch 9/100\n",
            "8000/8000 [==============================] - 1s 140us/step - loss: 0.4110 - acc: 0.8234\n",
            "Epoch 10/100\n",
            "8000/8000 [==============================] - 1s 142us/step - loss: 0.4095 - acc: 0.8222\n",
            "Epoch 11/100\n",
            "8000/8000 [==============================] - 1s 143us/step - loss: 0.4037 - acc: 0.8266\n",
            "Epoch 12/100\n",
            "8000/8000 [==============================] - 1s 140us/step - loss: 0.4031 - acc: 0.8284\n",
            "Epoch 13/100\n",
            "8000/8000 [==============================] - 1s 140us/step - loss: 0.4002 - acc: 0.8301\n",
            "Epoch 14/100\n",
            "8000/8000 [==============================] - 1s 129us/step - loss: 0.3973 - acc: 0.8360\n",
            "Epoch 15/100\n",
            "8000/8000 [==============================] - 1s 129us/step - loss: 0.3967 - acc: 0.8339\n",
            "Epoch 16/100\n",
            "8000/8000 [==============================] - 1s 129us/step - loss: 0.4006 - acc: 0.8330\n",
            "Epoch 17/100\n",
            "8000/8000 [==============================] - 1s 130us/step - loss: 0.3952 - acc: 0.8324\n",
            "Epoch 18/100\n",
            "8000/8000 [==============================] - 1s 131us/step - loss: 0.3956 - acc: 0.8327\n",
            "Epoch 19/100\n",
            "8000/8000 [==============================] - 1s 127us/step - loss: 0.3910 - acc: 0.8369\n",
            "Epoch 20/100\n",
            "8000/8000 [==============================] - 1s 130us/step - loss: 0.3953 - acc: 0.8351\n",
            "Epoch 21/100\n",
            "8000/8000 [==============================] - 1s 129us/step - loss: 0.3936 - acc: 0.8355\n",
            "Epoch 22/100\n",
            "8000/8000 [==============================] - 1s 125us/step - loss: 0.3939 - acc: 0.8344\n",
            "Epoch 23/100\n",
            "8000/8000 [==============================] - 1s 130us/step - loss: 0.3969 - acc: 0.8336\n",
            "Epoch 24/100\n",
            "8000/8000 [==============================] - 1s 130us/step - loss: 0.3922 - acc: 0.8372\n",
            "Epoch 25/100\n",
            "8000/8000 [==============================] - 1s 128us/step - loss: 0.3905 - acc: 0.8357\n",
            "Epoch 26/100\n",
            "8000/8000 [==============================] - 1s 128us/step - loss: 0.3923 - acc: 0.8340\n",
            "Epoch 27/100\n",
            "8000/8000 [==============================] - 1s 130us/step - loss: 0.3908 - acc: 0.8381\n",
            "Epoch 28/100\n",
            "8000/8000 [==============================] - 1s 130us/step - loss: 0.3940 - acc: 0.8354\n",
            "Epoch 29/100\n",
            "8000/8000 [==============================] - 1s 129us/step - loss: 0.3949 - acc: 0.8346\n",
            "Epoch 30/100\n",
            "8000/8000 [==============================] - 1s 129us/step - loss: 0.3934 - acc: 0.8354\n",
            "Epoch 31/100\n",
            "8000/8000 [==============================] - 1s 126us/step - loss: 0.3892 - acc: 0.8379\n",
            "Epoch 32/100\n",
            "8000/8000 [==============================] - 1s 131us/step - loss: 0.3940 - acc: 0.8367\n",
            "Epoch 33/100\n",
            "8000/8000 [==============================] - 1s 132us/step - loss: 0.3929 - acc: 0.8350\n",
            "Epoch 34/100\n",
            "8000/8000 [==============================] - 1s 128us/step - loss: 0.3895 - acc: 0.8366\n",
            "Epoch 35/100\n",
            "8000/8000 [==============================] - 1s 129us/step - loss: 0.3946 - acc: 0.8351\n",
            "Epoch 36/100\n",
            "8000/8000 [==============================] - 1s 132us/step - loss: 0.3946 - acc: 0.8327\n",
            "Epoch 37/100\n",
            "8000/8000 [==============================] - 1s 130us/step - loss: 0.3912 - acc: 0.8330\n",
            "Epoch 38/100\n",
            "8000/8000 [==============================] - 1s 129us/step - loss: 0.3904 - acc: 0.8354\n",
            "Epoch 39/100\n",
            "8000/8000 [==============================] - 1s 128us/step - loss: 0.3905 - acc: 0.8357\n",
            "Epoch 40/100\n",
            "8000/8000 [==============================] - 1s 128us/step - loss: 0.3969 - acc: 0.8295\n",
            "Epoch 41/100\n",
            "8000/8000 [==============================] - 1s 127us/step - loss: 0.3904 - acc: 0.8339\n",
            "Epoch 42/100\n",
            "8000/8000 [==============================] - 1s 128us/step - loss: 0.3896 - acc: 0.8340\n",
            "Epoch 43/100\n",
            "8000/8000 [==============================] - 1s 130us/step - loss: 0.3889 - acc: 0.8345\n",
            "Epoch 44/100\n",
            "8000/8000 [==============================] - 1s 130us/step - loss: 0.3899 - acc: 0.8386\n",
            "Epoch 45/100\n",
            "8000/8000 [==============================] - 1s 126us/step - loss: 0.3903 - acc: 0.8390\n",
            "Epoch 46/100\n",
            "8000/8000 [==============================] - 1s 130us/step - loss: 0.3875 - acc: 0.8352\n",
            "Epoch 47/100\n",
            "8000/8000 [==============================] - 1s 130us/step - loss: 0.3907 - acc: 0.8371\n",
            "Epoch 48/100\n",
            "8000/8000 [==============================] - 1s 128us/step - loss: 0.3893 - acc: 0.8362\n",
            "Epoch 49/100\n",
            "8000/8000 [==============================] - 1s 128us/step - loss: 0.3940 - acc: 0.8335\n",
            "Epoch 50/100\n",
            "8000/8000 [==============================] - 1s 129us/step - loss: 0.3905 - acc: 0.8352\n",
            "Epoch 51/100\n",
            "8000/8000 [==============================] - 1s 129us/step - loss: 0.3904 - acc: 0.8351\n",
            "Epoch 52/100\n",
            "8000/8000 [==============================] - 1s 130us/step - loss: 0.3916 - acc: 0.8342\n",
            "Epoch 53/100\n",
            "8000/8000 [==============================] - 1s 131us/step - loss: 0.3929 - acc: 0.8347\n",
            "Epoch 54/100\n",
            "8000/8000 [==============================] - 1s 130us/step - loss: 0.3899 - acc: 0.8349\n",
            "Epoch 55/100\n",
            "8000/8000 [==============================] - 1s 128us/step - loss: 0.3887 - acc: 0.8355\n",
            "Epoch 56/100\n",
            "8000/8000 [==============================] - 1s 129us/step - loss: 0.3921 - acc: 0.8331\n",
            "Epoch 57/100\n",
            "8000/8000 [==============================] - 1s 127us/step - loss: 0.3908 - acc: 0.8346\n",
            "Epoch 58/100\n",
            "8000/8000 [==============================] - 1s 128us/step - loss: 0.3925 - acc: 0.8357\n",
            "Epoch 59/100\n",
            "8000/8000 [==============================] - 1s 126us/step - loss: 0.3937 - acc: 0.8355\n",
            "Epoch 60/100\n",
            "8000/8000 [==============================] - 1s 125us/step - loss: 0.3924 - acc: 0.8359\n",
            "Epoch 61/100\n",
            "8000/8000 [==============================] - 1s 132us/step - loss: 0.3914 - acc: 0.8316\n",
            "Epoch 62/100\n",
            "8000/8000 [==============================] - 1s 130us/step - loss: 0.3918 - acc: 0.8314\n",
            "Epoch 63/100\n",
            "8000/8000 [==============================] - 1s 128us/step - loss: 0.3883 - acc: 0.8352\n",
            "Epoch 64/100\n",
            "8000/8000 [==============================] - 1s 126us/step - loss: 0.3872 - acc: 0.8344\n",
            "Epoch 65/100\n",
            "8000/8000 [==============================] - 1s 128us/step - loss: 0.3886 - acc: 0.8367\n",
            "Epoch 66/100\n",
            "8000/8000 [==============================] - 1s 129us/step - loss: 0.3904 - acc: 0.8367\n",
            "Epoch 67/100\n",
            "8000/8000 [==============================] - 1s 135us/step - loss: 0.3903 - acc: 0.8339\n",
            "Epoch 68/100\n",
            "8000/8000 [==============================] - 1s 127us/step - loss: 0.3889 - acc: 0.8349\n",
            "Epoch 69/100\n",
            "8000/8000 [==============================] - 1s 129us/step - loss: 0.3873 - acc: 0.8360\n",
            "Epoch 70/100\n",
            "8000/8000 [==============================] - 1s 130us/step - loss: 0.3896 - acc: 0.8342\n",
            "Epoch 71/100\n",
            "8000/8000 [==============================] - 1s 132us/step - loss: 0.3897 - acc: 0.8354\n",
            "Epoch 72/100\n",
            "8000/8000 [==============================] - 1s 135us/step - loss: 0.3845 - acc: 0.8370\n",
            "Epoch 73/100\n",
            "8000/8000 [==============================] - 1s 130us/step - loss: 0.3912 - acc: 0.8349\n",
            "Epoch 74/100\n",
            "8000/8000 [==============================] - 1s 130us/step - loss: 0.3886 - acc: 0.8341\n",
            "Epoch 75/100\n",
            "8000/8000 [==============================] - 1s 132us/step - loss: 0.3909 - acc: 0.8354\n",
            "Epoch 76/100\n",
            "8000/8000 [==============================] - 1s 132us/step - loss: 0.3857 - acc: 0.8374\n",
            "Epoch 77/100\n",
            "8000/8000 [==============================] - 1s 132us/step - loss: 0.3931 - acc: 0.8346\n",
            "Epoch 78/100\n",
            "8000/8000 [==============================] - 1s 130us/step - loss: 0.3871 - acc: 0.8355\n",
            "Epoch 79/100\n",
            "8000/8000 [==============================] - 1s 127us/step - loss: 0.3896 - acc: 0.8384\n",
            "Epoch 80/100\n",
            "8000/8000 [==============================] - 1s 128us/step - loss: 0.3910 - acc: 0.8335\n",
            "Epoch 81/100\n",
            "8000/8000 [==============================] - 1s 128us/step - loss: 0.3906 - acc: 0.8319\n",
            "Epoch 82/100\n",
            "8000/8000 [==============================] - 1s 129us/step - loss: 0.3903 - acc: 0.8342\n",
            "Epoch 83/100\n",
            "8000/8000 [==============================] - 1s 126us/step - loss: 0.3873 - acc: 0.8375\n",
            "Epoch 84/100\n",
            "8000/8000 [==============================] - 1s 133us/step - loss: 0.3921 - acc: 0.8354\n",
            "Epoch 85/100\n",
            "8000/8000 [==============================] - 1s 126us/step - loss: 0.3881 - acc: 0.8331\n",
            "Epoch 86/100\n",
            "8000/8000 [==============================] - 1s 130us/step - loss: 0.3911 - acc: 0.8329\n",
            "Epoch 87/100\n",
            "8000/8000 [==============================] - 1s 139us/step - loss: 0.3901 - acc: 0.8344\n",
            "Epoch 88/100\n",
            "8000/8000 [==============================] - 1s 146us/step - loss: 0.3910 - acc: 0.8336\n",
            "Epoch 89/100\n",
            "8000/8000 [==============================] - 1s 144us/step - loss: 0.3905 - acc: 0.8350\n",
            "Epoch 90/100\n",
            "8000/8000 [==============================] - 1s 143us/step - loss: 0.3893 - acc: 0.8369\n",
            "Epoch 91/100\n",
            "8000/8000 [==============================] - 1s 140us/step - loss: 0.3956 - acc: 0.8335\n",
            "Epoch 92/100\n",
            "8000/8000 [==============================] - 1s 135us/step - loss: 0.3894 - acc: 0.8362\n",
            "Epoch 93/100\n",
            "8000/8000 [==============================] - 1s 129us/step - loss: 0.3898 - acc: 0.8350\n",
            "Epoch 94/100\n",
            "8000/8000 [==============================] - 1s 130us/step - loss: 0.3859 - acc: 0.8356\n",
            "Epoch 95/100\n",
            "8000/8000 [==============================] - 1s 129us/step - loss: 0.3897 - acc: 0.8347\n",
            "Epoch 96/100\n",
            "8000/8000 [==============================] - 1s 132us/step - loss: 0.3938 - acc: 0.8312\n",
            "Epoch 97/100\n",
            "8000/8000 [==============================] - 1s 128us/step - loss: 0.3919 - acc: 0.8349\n",
            "Epoch 98/100\n",
            "8000/8000 [==============================] - 1s 129us/step - loss: 0.3846 - acc: 0.8376\n",
            "Epoch 99/100\n",
            "8000/8000 [==============================] - 1s 132us/step - loss: 0.3828 - acc: 0.8370\n",
            "Epoch 100/100\n",
            "8000/8000 [==============================] - 1s 126us/step - loss: 0.3872 - acc: 0.8379\n"
          ],
          "name": "stdout"
        },
        {
          "output_type": "execute_result",
          "data": {
            "text/plain": [
              "<keras.callbacks.History at 0x7f7f56477e80>"
            ]
          },
          "metadata": {
            "tags": []
          },
          "execution_count": 209
        }
      ]
    },
    {
      "cell_type": "code",
      "metadata": {
        "id": "ExG2YTEJfRcH",
        "colab_type": "code",
        "colab": {}
      },
      "source": [
        "y_pred = classifier.predict(X_test)"
      ],
      "execution_count": 0,
      "outputs": []
    },
    {
      "cell_type": "code",
      "metadata": {
        "id": "NqQiIHkYmAOq",
        "colab_type": "code",
        "colab": {
          "base_uri": "https://localhost:8080/",
          "height": 134
        },
        "outputId": "05478b2e-6589-4783-8300-c5c498fb1520"
      },
      "source": [
        "y_pred"
      ],
      "execution_count": 211,
      "outputs": [
        {
          "output_type": "execute_result",
          "data": {
            "text/plain": [
              "array([[0.25160086],\n",
              "       [0.19182554],\n",
              "       [0.14722088],\n",
              "       ...,\n",
              "       [0.19881526],\n",
              "       [0.14334387],\n",
              "       [0.17713481]], dtype=float32)"
            ]
          },
          "metadata": {
            "tags": []
          },
          "execution_count": 211
        }
      ]
    },
    {
      "cell_type": "code",
      "metadata": {
        "id": "MbJpLxyMoko9",
        "colab_type": "code",
        "colab": {}
      },
      "source": [
        "y_pred = (y_pred > 0.5 )"
      ],
      "execution_count": 0,
      "outputs": []
    },
    {
      "cell_type": "code",
      "metadata": {
        "id": "p5cuFyMNfy2o",
        "colab_type": "code",
        "colab": {}
      },
      "source": [
        "from sklearn.metrics import confusion_matrix\n",
        "cm = confusion_matrix(y_test,y_pred)"
      ],
      "execution_count": 0,
      "outputs": []
    },
    {
      "cell_type": "code",
      "metadata": {
        "id": "P14n60GPrVaz",
        "colab_type": "code",
        "colab": {
          "base_uri": "https://localhost:8080/",
          "height": 50
        },
        "outputId": "8d75b216-7247-4ff9-e689-eaf36f88236b"
      },
      "source": [
        "cm"
      ],
      "execution_count": 214,
      "outputs": [
        {
          "output_type": "execute_result",
          "data": {
            "text/plain": [
              "array([[1545,   50],\n",
              "       [ 240,  165]])"
            ]
          },
          "metadata": {
            "tags": []
          },
          "execution_count": 214
        }
      ]
    },
    {
      "cell_type": "code",
      "metadata": {
        "id": "q2PBVCaCrXkQ",
        "colab_type": "code",
        "colab": {
          "base_uri": "https://localhost:8080/",
          "height": 34
        },
        "outputId": "8be081f7-7b92-4eab-8b57-732e2ca96886"
      },
      "source": [
        "(1545+165)/2000"
      ],
      "execution_count": 218,
      "outputs": [
        {
          "output_type": "execute_result",
          "data": {
            "text/plain": [
              "0.855"
            ]
          },
          "metadata": {
            "tags": []
          },
          "execution_count": 218
        }
      ]
    },
    {
      "cell_type": "code",
      "metadata": {
        "id": "nBp2jCHOru-1",
        "colab_type": "code",
        "colab": {}
      },
      "source": [
        "new_prediction = classifier.predict(sc.transform(np.array([[0,0,600,1,40,3,60000,2,1,1,50000]])))"
      ],
      "execution_count": 0,
      "outputs": []
    },
    {
      "cell_type": "code",
      "metadata": {
        "id": "amMt0QerxZEl",
        "colab_type": "code",
        "colab": {
          "base_uri": "https://localhost:8080/",
          "height": 34
        },
        "outputId": "d09a23f4-5670-4b24-cd92-8a0b522c4ad4"
      },
      "source": [
        "new_prediction =( new_prediction > 0.5 )\n",
        "new_prediction"
      ],
      "execution_count": 217,
      "outputs": [
        {
          "output_type": "execute_result",
          "data": {
            "text/plain": [
              "array([[False]])"
            ]
          },
          "metadata": {
            "tags": []
          },
          "execution_count": 217
        }
      ]
    }
  ]
}